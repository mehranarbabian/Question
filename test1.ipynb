{
 "cells": [
  {
   "cell_type": "code",
   "execution_count": 57,
   "id": "3be57c0c-c41a-492c-a33f-d6f177766a4a",
   "metadata": {},
   "outputs": [],
   "source": [
    "import numpy as np\n",
    "import pandas as pd\n",
    "from sklearn.preprocessing import LabelEncoder,StandardScaler\n",
    "from sklearn.model_selection import train_test_split\n",
    "from sklearn.linear_model import LinearRegression\n",
    "from sklearn.metrics import mean_squared_error,r2_score"
   ]
  },
  {
   "cell_type": "code",
   "execution_count": 58,
   "id": "3477dd90-f763-438d-a2be-7e00373a8b43",
   "metadata": {},
   "outputs": [],
   "source": [
    "df=pd.read_csv(\"Student_Performance.csv\")"
   ]
  },
  {
   "cell_type": "markdown",
   "id": "863d3500-a976-45bb-99c1-eafb0b6a6192",
   "metadata": {},
   "source": [
    "### Duplicate : "
   ]
  },
  {
   "cell_type": "code",
   "execution_count": 59,
   "id": "a926327a-f8b6-48b7-ba05-3a1212e45feb",
   "metadata": {},
   "outputs": [],
   "source": [
    "df=df.sort_values(by=df.columns.tolist())\n",
    "df[df.duplicated(keep=False)]\n",
    "df=df.drop_duplicates()"
   ]
  },
  {
   "cell_type": "markdown",
   "id": "1262af9f-8f92-44c4-acb3-abb188380796",
   "metadata": {},
   "source": [
    "### Null Handling: "
   ]
  },
  {
   "cell_type": "code",
   "execution_count": 60,
   "id": "deb99587-6e64-4637-82d1-257aaabb9237",
   "metadata": {
    "scrolled": true
   },
   "outputs": [],
   "source": [
    "df=df[df.notnull().any(axis=1)]"
   ]
  },
  {
   "cell_type": "markdown",
   "id": "c444c3cd-5a9a-4d9c-8a7d-8a94d7d8101f",
   "metadata": {},
   "source": [
    "### Transform Categorical Columns To Numerical : "
   ]
  },
  {
   "cell_type": "code",
   "execution_count": 61,
   "id": "e408015e-1ebb-4c82-baa4-04c1d4d5c708",
   "metadata": {},
   "outputs": [],
   "source": [
    "encoder = LabelEncoder()\n",
    "temp_values =encoder.fit_transform(df[\"Extracurricular Activities\"])\n",
    "df.insert(loc=2,column =\"Extracurricular Activities Numerical\",value=temp_values)\n",
    "df=df.drop(columns=\"Extracurricular Activities\",inplace=False)"
   ]
  },
  {
   "cell_type": "markdown",
   "id": "ddec9dfd-d72f-409c-adfd-19edd521cdf8",
   "metadata": {},
   "source": [
    "### Feature Scaling :"
   ]
  },
  {
   "cell_type": "code",
   "execution_count": 62,
   "id": "160af04e-ed01-4f49-947a-77f08229d5cf",
   "metadata": {},
   "outputs": [],
   "source": [
    "scaler=StandardScaler()\n",
    "df_scaler=pd.DataFrame(scaler.fit_transform(df),columns=df.columns)"
   ]
  },
  {
   "cell_type": "markdown",
   "id": "c6f894c0-9a95-438f-86ea-62cacad63a63",
   "metadata": {},
   "source": [
    "### Split the Dataset To Training Set and Validation Set. \n"
   ]
  },
  {
   "cell_type": "code",
   "execution_count": 63,
   "id": "2a2adaec-e9ff-43f4-a324-df6f61280ba0",
   "metadata": {
    "scrolled": true
   },
   "outputs": [],
   "source": [
    "X = df_scaler.drop(columns=[\"Performance Index\"])\n",
    "y=df_scaler[\"Performance Index\"]\n",
    "X_train,X_test,y_train,y_test=train_test_split(X,y,test_size=0.2,random_state=41)"
   ]
  },
  {
   "cell_type": "code",
   "execution_count": 64,
   "id": "97209308-089c-41ad-973e-6a4bc6cd8359",
   "metadata": {},
   "outputs": [],
   "source": [
    "model=LinearRegression()"
   ]
  },
  {
   "cell_type": "code",
   "execution_count": null,
   "id": "e52eaff2-1ed0-42fb-a733-2c560b52d9ef",
   "metadata": {},
   "outputs": [],
   "source": [
    "model.fit(X_train,y_train)"
   ]
  },
  {
   "cell_type": "code",
   "execution_count": 66,
   "id": "72562d40-fccb-4752-87dc-78914e27cb04",
   "metadata": {},
   "outputs": [],
   "source": [
    "y_predict=model.predict(X_test)"
   ]
  },
  {
   "cell_type": "code",
   "execution_count": 67,
   "id": "3c4d1098-9ffd-4e07-b14e-0053e4103b33",
   "metadata": {},
   "outputs": [
    {
     "name": "stdout",
     "output_type": "stream",
     "text": [
      "mean_squared_error: 0.01166908343621992\n",
      "r2_score: 0.9881787871142279\n"
     ]
    }
   ],
   "source": [
    "print(\"mean_squared_error:\",mean_squared_error(y_test,y_predict))\n",
    "print(\"r2_score:\",r2_score(y_test,y_predict))"
   ]
  },
  {
   "cell_type": "markdown",
   "id": "de5e0cde-414a-4ddb-a9be-43e99f6c78e3",
   "metadata": {},
   "source": [
    "### model.coef_[1] is Previous Scores.\n",
    "### The previous scores are the most important feature."
   ]
  },
  {
   "cell_type": "code",
   "execution_count": 68,
   "id": "9f4e5f68-de2f-4b92-9704-438e2fe4aba2",
   "metadata": {},
   "outputs": [
    {
     "data": {
      "text/plain": [
       "array([0.38454928, 0.91906857, 0.01652767, 0.04138819, 0.028097  ])"
      ]
     },
     "execution_count": 68,
     "metadata": {},
     "output_type": "execute_result"
    }
   ],
   "source": [
    "model.coef_"
   ]
  }
 ],
 "metadata": {
  "kernelspec": {
   "display_name": "Python 3 (ipykernel)",
   "language": "python",
   "name": "python3"
  },
  "language_info": {
   "codemirror_mode": {
    "name": "ipython",
    "version": 3
   },
   "file_extension": ".py",
   "mimetype": "text/x-python",
   "name": "python",
   "nbconvert_exporter": "python",
   "pygments_lexer": "ipython3",
   "version": "3.9.0"
  }
 },
 "nbformat": 4,
 "nbformat_minor": 5
}
